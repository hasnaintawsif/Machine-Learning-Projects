{
 "cells": [
  {
   "cell_type": "code",
   "execution_count": 1,
   "id": "aec559f8-85a4-410e-89cb-515ea9fe9f97",
   "metadata": {},
   "outputs": [],
   "source": [
    "import pandas as pd"
   ]
  },
  {
   "cell_type": "code",
   "execution_count": 2,
   "id": "742ea8c6-088c-4321-b6e8-4ed5af7a9566",
   "metadata": {},
   "outputs": [
    {
     "data": {
      "text/html": [
       "<div>\n",
       "<style scoped>\n",
       "    .dataframe tbody tr th:only-of-type {\n",
       "        vertical-align: middle;\n",
       "    }\n",
       "\n",
       "    .dataframe tbody tr th {\n",
       "        vertical-align: top;\n",
       "    }\n",
       "\n",
       "    .dataframe thead th {\n",
       "        text-align: right;\n",
       "    }\n",
       "</style>\n",
       "<table border=\"1\" class=\"dataframe\">\n",
       "  <thead>\n",
       "    <tr style=\"text-align: right;\">\n",
       "      <th></th>\n",
       "      <th>TransactionID</th>\n",
       "      <th>CustomerID</th>\n",
       "      <th>CustomerDOB</th>\n",
       "      <th>CustGender</th>\n",
       "      <th>CustLocation</th>\n",
       "      <th>CustAccountBalance</th>\n",
       "      <th>TransactionDate</th>\n",
       "      <th>TransactionTime</th>\n",
       "      <th>TransactionAmount (INR)</th>\n",
       "    </tr>\n",
       "  </thead>\n",
       "  <tbody>\n",
       "    <tr>\n",
       "      <th>0</th>\n",
       "      <td>T1</td>\n",
       "      <td>C5841053</td>\n",
       "      <td>10/1/94</td>\n",
       "      <td>F</td>\n",
       "      <td>JAMSHEDPUR</td>\n",
       "      <td>17819.05</td>\n",
       "      <td>2/8/16</td>\n",
       "      <td>143207</td>\n",
       "      <td>25.0</td>\n",
       "    </tr>\n",
       "    <tr>\n",
       "      <th>1</th>\n",
       "      <td>T2</td>\n",
       "      <td>C2142763</td>\n",
       "      <td>4/4/57</td>\n",
       "      <td>M</td>\n",
       "      <td>JHAJJAR</td>\n",
       "      <td>2270.69</td>\n",
       "      <td>2/8/16</td>\n",
       "      <td>141858</td>\n",
       "      <td>27999.0</td>\n",
       "    </tr>\n",
       "    <tr>\n",
       "      <th>2</th>\n",
       "      <td>T3</td>\n",
       "      <td>C4417068</td>\n",
       "      <td>26/11/96</td>\n",
       "      <td>F</td>\n",
       "      <td>MUMBAI</td>\n",
       "      <td>17874.44</td>\n",
       "      <td>2/8/16</td>\n",
       "      <td>142712</td>\n",
       "      <td>459.0</td>\n",
       "    </tr>\n",
       "    <tr>\n",
       "      <th>3</th>\n",
       "      <td>T4</td>\n",
       "      <td>C5342380</td>\n",
       "      <td>14/9/73</td>\n",
       "      <td>F</td>\n",
       "      <td>MUMBAI</td>\n",
       "      <td>866503.21</td>\n",
       "      <td>2/8/16</td>\n",
       "      <td>142714</td>\n",
       "      <td>2060.0</td>\n",
       "    </tr>\n",
       "    <tr>\n",
       "      <th>4</th>\n",
       "      <td>T5</td>\n",
       "      <td>C9031234</td>\n",
       "      <td>24/3/88</td>\n",
       "      <td>F</td>\n",
       "      <td>NAVI MUMBAI</td>\n",
       "      <td>6714.43</td>\n",
       "      <td>2/8/16</td>\n",
       "      <td>181156</td>\n",
       "      <td>1762.5</td>\n",
       "    </tr>\n",
       "    <tr>\n",
       "      <th>...</th>\n",
       "      <td>...</td>\n",
       "      <td>...</td>\n",
       "      <td>...</td>\n",
       "      <td>...</td>\n",
       "      <td>...</td>\n",
       "      <td>...</td>\n",
       "      <td>...</td>\n",
       "      <td>...</td>\n",
       "      <td>...</td>\n",
       "    </tr>\n",
       "    <tr>\n",
       "      <th>1048562</th>\n",
       "      <td>T1048563</td>\n",
       "      <td>C8020229</td>\n",
       "      <td>8/4/90</td>\n",
       "      <td>M</td>\n",
       "      <td>NEW DELHI</td>\n",
       "      <td>7635.19</td>\n",
       "      <td>18/9/16</td>\n",
       "      <td>184824</td>\n",
       "      <td>799.0</td>\n",
       "    </tr>\n",
       "    <tr>\n",
       "      <th>1048563</th>\n",
       "      <td>T1048564</td>\n",
       "      <td>C6459278</td>\n",
       "      <td>20/2/92</td>\n",
       "      <td>M</td>\n",
       "      <td>NASHIK</td>\n",
       "      <td>27311.42</td>\n",
       "      <td>18/9/16</td>\n",
       "      <td>183734</td>\n",
       "      <td>460.0</td>\n",
       "    </tr>\n",
       "    <tr>\n",
       "      <th>1048564</th>\n",
       "      <td>T1048565</td>\n",
       "      <td>C6412354</td>\n",
       "      <td>18/5/89</td>\n",
       "      <td>M</td>\n",
       "      <td>HYDERABAD</td>\n",
       "      <td>221757.06</td>\n",
       "      <td>18/9/16</td>\n",
       "      <td>183313</td>\n",
       "      <td>770.0</td>\n",
       "    </tr>\n",
       "    <tr>\n",
       "      <th>1048565</th>\n",
       "      <td>T1048566</td>\n",
       "      <td>C6420483</td>\n",
       "      <td>30/8/78</td>\n",
       "      <td>M</td>\n",
       "      <td>VISAKHAPATNAM</td>\n",
       "      <td>10117.87</td>\n",
       "      <td>18/9/16</td>\n",
       "      <td>184706</td>\n",
       "      <td>1000.0</td>\n",
       "    </tr>\n",
       "    <tr>\n",
       "      <th>1048566</th>\n",
       "      <td>T1048567</td>\n",
       "      <td>C8337524</td>\n",
       "      <td>5/3/84</td>\n",
       "      <td>M</td>\n",
       "      <td>PUNE</td>\n",
       "      <td>75734.42</td>\n",
       "      <td>18/9/16</td>\n",
       "      <td>181222</td>\n",
       "      <td>1166.0</td>\n",
       "    </tr>\n",
       "  </tbody>\n",
       "</table>\n",
       "<p>1048567 rows × 9 columns</p>\n",
       "</div>"
      ],
      "text/plain": [
       "        TransactionID CustomerID CustomerDOB CustGender   CustLocation  \\\n",
       "0                  T1   C5841053     10/1/94          F     JAMSHEDPUR   \n",
       "1                  T2   C2142763      4/4/57          M        JHAJJAR   \n",
       "2                  T3   C4417068    26/11/96          F         MUMBAI   \n",
       "3                  T4   C5342380     14/9/73          F         MUMBAI   \n",
       "4                  T5   C9031234     24/3/88          F    NAVI MUMBAI   \n",
       "...               ...        ...         ...        ...            ...   \n",
       "1048562      T1048563   C8020229      8/4/90          M      NEW DELHI   \n",
       "1048563      T1048564   C6459278     20/2/92          M         NASHIK   \n",
       "1048564      T1048565   C6412354     18/5/89          M      HYDERABAD   \n",
       "1048565      T1048566   C6420483     30/8/78          M  VISAKHAPATNAM   \n",
       "1048566      T1048567   C8337524      5/3/84          M           PUNE   \n",
       "\n",
       "         CustAccountBalance TransactionDate  TransactionTime  \\\n",
       "0                  17819.05          2/8/16           143207   \n",
       "1                   2270.69          2/8/16           141858   \n",
       "2                  17874.44          2/8/16           142712   \n",
       "3                 866503.21          2/8/16           142714   \n",
       "4                   6714.43          2/8/16           181156   \n",
       "...                     ...             ...              ...   \n",
       "1048562             7635.19         18/9/16           184824   \n",
       "1048563            27311.42         18/9/16           183734   \n",
       "1048564           221757.06         18/9/16           183313   \n",
       "1048565            10117.87         18/9/16           184706   \n",
       "1048566            75734.42         18/9/16           181222   \n",
       "\n",
       "         TransactionAmount (INR)  \n",
       "0                           25.0  \n",
       "1                        27999.0  \n",
       "2                          459.0  \n",
       "3                         2060.0  \n",
       "4                         1762.5  \n",
       "...                          ...  \n",
       "1048562                    799.0  \n",
       "1048563                    460.0  \n",
       "1048564                    770.0  \n",
       "1048565                   1000.0  \n",
       "1048566                   1166.0  \n",
       "\n",
       "[1048567 rows x 9 columns]"
      ]
     },
     "execution_count": 2,
     "metadata": {},
     "output_type": "execute_result"
    }
   ],
   "source": [
    "df = pd.read_csv('C:/Users/Admin/Downloads/bank_transactions.csv')\n",
    "df"
   ]
  },
  {
   "cell_type": "markdown",
   "id": "eeb9e20c-4850-4e18-b66c-98bcaec1597d",
   "metadata": {},
   "source": [
    "TransactionID, CustomerID, and TransactionDate Doesn't matter, let's drop these features now!"
   ]
  },
  {
   "cell_type": "code",
   "execution_count": 3,
   "id": "87795396-a559-442f-b995-a35094c67768",
   "metadata": {},
   "outputs": [],
   "source": [
    "df.drop(columns=['TransactionID', 'CustomerID', 'CustLocation'], inplace=True)"
   ]
  },
  {
   "cell_type": "markdown",
   "id": "7c196d7c-aff9-406e-a6e2-a38478c5e9c9",
   "metadata": {},
   "source": [
    "I'm going to extract Customer Age from available features."
   ]
  },
  {
   "cell_type": "code",
   "execution_count": 4,
   "id": "a3302e5e-b3ea-4683-a172-346a05e360ca",
   "metadata": {},
   "outputs": [],
   "source": [
    "df['CustomerDOB'] = pd.to_datetime(df['CustomerDOB'], format='%d/%m/%y', errors='coerce')\n",
    "df['TransactionDate'] = pd.to_datetime(df['TransactionDate'], format='%d/%m/%y', errors='coerce')\n",
    "\n",
    "def fix_year(date):\n",
    "    if pd.isna(date):\n",
    "        return date\n",
    "    if date.year > 2025:\n",
    "        return date.replace(year=date.year - 100)\n",
    "    return date\n",
    "\n",
    "df['CustomerDOB'] = df['CustomerDOB'].apply(fix_year)\n",
    "\n",
    "df['CustomerAge'] = df['TransactionDate'].dt.year - df['CustomerDOB'].dt.year\n",
    "\n",
    "df.drop(columns=['CustomerDOB', 'TransactionDate'], inplace=True)"
   ]
  },
  {
   "cell_type": "code",
   "execution_count": 5,
   "id": "41beefaa-fc14-4e52-9c9b-025514f1c8d4",
   "metadata": {},
   "outputs": [
    {
     "data": {
      "text/html": [
       "<div>\n",
       "<style scoped>\n",
       "    .dataframe tbody tr th:only-of-type {\n",
       "        vertical-align: middle;\n",
       "    }\n",
       "\n",
       "    .dataframe tbody tr th {\n",
       "        vertical-align: top;\n",
       "    }\n",
       "\n",
       "    .dataframe thead th {\n",
       "        text-align: right;\n",
       "    }\n",
       "</style>\n",
       "<table border=\"1\" class=\"dataframe\">\n",
       "  <thead>\n",
       "    <tr style=\"text-align: right;\">\n",
       "      <th></th>\n",
       "      <th>CustGender</th>\n",
       "      <th>CustAccountBalance</th>\n",
       "      <th>TransactionTime</th>\n",
       "      <th>TransactionAmount (INR)</th>\n",
       "      <th>CustomerAge</th>\n",
       "    </tr>\n",
       "  </thead>\n",
       "  <tbody>\n",
       "    <tr>\n",
       "      <th>0</th>\n",
       "      <td>F</td>\n",
       "      <td>17819.05</td>\n",
       "      <td>143207</td>\n",
       "      <td>25.0</td>\n",
       "      <td>22.0</td>\n",
       "    </tr>\n",
       "    <tr>\n",
       "      <th>1</th>\n",
       "      <td>M</td>\n",
       "      <td>2270.69</td>\n",
       "      <td>141858</td>\n",
       "      <td>27999.0</td>\n",
       "      <td>59.0</td>\n",
       "    </tr>\n",
       "    <tr>\n",
       "      <th>2</th>\n",
       "      <td>F</td>\n",
       "      <td>17874.44</td>\n",
       "      <td>142712</td>\n",
       "      <td>459.0</td>\n",
       "      <td>20.0</td>\n",
       "    </tr>\n",
       "    <tr>\n",
       "      <th>3</th>\n",
       "      <td>F</td>\n",
       "      <td>866503.21</td>\n",
       "      <td>142714</td>\n",
       "      <td>2060.0</td>\n",
       "      <td>43.0</td>\n",
       "    </tr>\n",
       "    <tr>\n",
       "      <th>4</th>\n",
       "      <td>F</td>\n",
       "      <td>6714.43</td>\n",
       "      <td>181156</td>\n",
       "      <td>1762.5</td>\n",
       "      <td>28.0</td>\n",
       "    </tr>\n",
       "    <tr>\n",
       "      <th>...</th>\n",
       "      <td>...</td>\n",
       "      <td>...</td>\n",
       "      <td>...</td>\n",
       "      <td>...</td>\n",
       "      <td>...</td>\n",
       "    </tr>\n",
       "    <tr>\n",
       "      <th>1048562</th>\n",
       "      <td>M</td>\n",
       "      <td>7635.19</td>\n",
       "      <td>184824</td>\n",
       "      <td>799.0</td>\n",
       "      <td>26.0</td>\n",
       "    </tr>\n",
       "    <tr>\n",
       "      <th>1048563</th>\n",
       "      <td>M</td>\n",
       "      <td>27311.42</td>\n",
       "      <td>183734</td>\n",
       "      <td>460.0</td>\n",
       "      <td>24.0</td>\n",
       "    </tr>\n",
       "    <tr>\n",
       "      <th>1048564</th>\n",
       "      <td>M</td>\n",
       "      <td>221757.06</td>\n",
       "      <td>183313</td>\n",
       "      <td>770.0</td>\n",
       "      <td>27.0</td>\n",
       "    </tr>\n",
       "    <tr>\n",
       "      <th>1048565</th>\n",
       "      <td>M</td>\n",
       "      <td>10117.87</td>\n",
       "      <td>184706</td>\n",
       "      <td>1000.0</td>\n",
       "      <td>38.0</td>\n",
       "    </tr>\n",
       "    <tr>\n",
       "      <th>1048566</th>\n",
       "      <td>M</td>\n",
       "      <td>75734.42</td>\n",
       "      <td>181222</td>\n",
       "      <td>1166.0</td>\n",
       "      <td>32.0</td>\n",
       "    </tr>\n",
       "  </tbody>\n",
       "</table>\n",
       "<p>1048567 rows × 5 columns</p>\n",
       "</div>"
      ],
      "text/plain": [
       "        CustGender  CustAccountBalance  TransactionTime  \\\n",
       "0                F            17819.05           143207   \n",
       "1                M             2270.69           141858   \n",
       "2                F            17874.44           142712   \n",
       "3                F           866503.21           142714   \n",
       "4                F             6714.43           181156   \n",
       "...            ...                 ...              ...   \n",
       "1048562          M             7635.19           184824   \n",
       "1048563          M            27311.42           183734   \n",
       "1048564          M           221757.06           183313   \n",
       "1048565          M            10117.87           184706   \n",
       "1048566          M            75734.42           181222   \n",
       "\n",
       "         TransactionAmount (INR)  CustomerAge  \n",
       "0                           25.0         22.0  \n",
       "1                        27999.0         59.0  \n",
       "2                          459.0         20.0  \n",
       "3                         2060.0         43.0  \n",
       "4                         1762.5         28.0  \n",
       "...                          ...          ...  \n",
       "1048562                    799.0         26.0  \n",
       "1048563                    460.0         24.0  \n",
       "1048564                    770.0         27.0  \n",
       "1048565                   1000.0         38.0  \n",
       "1048566                   1166.0         32.0  \n",
       "\n",
       "[1048567 rows x 5 columns]"
      ]
     },
     "execution_count": 5,
     "metadata": {},
     "output_type": "execute_result"
    }
   ],
   "source": [
    "df"
   ]
  },
  {
   "cell_type": "code",
   "execution_count": 6,
   "id": "b6c33ab5-8fd9-42ff-8b0a-1dcc4e91f33d",
   "metadata": {},
   "outputs": [
    {
     "data": {
      "text/plain": [
       "CustGender                  1100\n",
       "CustAccountBalance          2369\n",
       "TransactionTime                0\n",
       "TransactionAmount (INR)        0\n",
       "CustomerAge                60736\n",
       "dtype: int64"
      ]
     },
     "execution_count": 6,
     "metadata": {},
     "output_type": "execute_result"
    }
   ],
   "source": [
    "df.isnull().sum()"
   ]
  },
  {
   "cell_type": "markdown",
   "id": "124c7c57-264e-4f2d-a98c-11358c5e3de7",
   "metadata": {},
   "source": [
    "There are many missing values, let's fill these."
   ]
  },
  {
   "cell_type": "code",
   "execution_count": 7,
   "id": "86d7137d-cc52-42f3-af14-e8219d9ec49e",
   "metadata": {},
   "outputs": [],
   "source": [
    "df['CustGender'] = df['CustGender'].fillna(df['CustGender'].mode()[0])"
   ]
  },
  {
   "cell_type": "code",
   "execution_count": 8,
   "id": "02a5ba7d-b04e-4b35-b545-c88dd7472f52",
   "metadata": {},
   "outputs": [],
   "source": [
    "df['CustAccountBalance'] = df['CustAccountBalance'].fillna(df['CustAccountBalance'].median())"
   ]
  },
  {
   "cell_type": "code",
   "execution_count": 9,
   "id": "363bf5a3-a336-437a-8b81-fcf852383bd0",
   "metadata": {},
   "outputs": [],
   "source": [
    "df['CustomerAge'] = df['CustomerAge'].fillna(df['CustomerAge'].median())"
   ]
  },
  {
   "cell_type": "code",
   "execution_count": 10,
   "id": "a3b07850-dc21-4dac-85f5-123e1d5213db",
   "metadata": {},
   "outputs": [
    {
     "data": {
      "text/plain": [
       "CustGender                 0\n",
       "CustAccountBalance         0\n",
       "TransactionTime            0\n",
       "TransactionAmount (INR)    0\n",
       "CustomerAge                0\n",
       "dtype: int64"
      ]
     },
     "execution_count": 10,
     "metadata": {},
     "output_type": "execute_result"
    }
   ],
   "source": [
    "df.isnull().sum()"
   ]
  },
  {
   "cell_type": "code",
   "execution_count": 11,
   "id": "0b0db3bf-ba04-462d-b822-381d38cfeefa",
   "metadata": {},
   "outputs": [
    {
     "data": {
      "text/plain": [
       "np.int64(67)"
      ]
     },
     "execution_count": 11,
     "metadata": {},
     "output_type": "execute_result"
    }
   ],
   "source": [
    "df.duplicated().sum()"
   ]
  },
  {
   "cell_type": "markdown",
   "id": "0392aff6-a6fd-492d-99a8-04ac98ff6165",
   "metadata": {},
   "source": [
    "There are 67 duplicated rows. Let's drop these."
   ]
  },
  {
   "cell_type": "code",
   "execution_count": 12,
   "id": "cf044b2e-b77e-4ef0-b190-9f9143f6585e",
   "metadata": {},
   "outputs": [],
   "source": [
    "df.drop_duplicates(inplace=True)"
   ]
  },
  {
   "cell_type": "code",
   "execution_count": 13,
   "id": "a8352e30-19e3-4acb-9abb-5d8cae617f9f",
   "metadata": {},
   "outputs": [
    {
     "data": {
      "text/plain": [
       "np.int64(0)"
      ]
     },
     "execution_count": 13,
     "metadata": {},
     "output_type": "execute_result"
    }
   ],
   "source": [
    "df.duplicated().sum()"
   ]
  },
  {
   "cell_type": "markdown",
   "id": "1f021d1b-26eb-4332-92fc-74add45f3ba5",
   "metadata": {},
   "source": [
    "Let's see the distribution of Categorical column."
   ]
  },
  {
   "cell_type": "code",
   "execution_count": 14,
   "id": "76dc4ccf-7d12-4c75-9173-2ec9281ad890",
   "metadata": {},
   "outputs": [
    {
     "data": {
      "text/plain": [
       "<Axes: xlabel='CustGender'>"
      ]
     },
     "execution_count": 14,
     "metadata": {},
     "output_type": "execute_result"
    },
    {
     "data": {
      "image/png": "[encoded data removed]",
      "text/plain": [
       "<Figure size 640x480 with 1 Axes>"
      ]
     },
     "metadata": {},
     "output_type": "display_data"
    }
   ],
   "source": [
    "df['CustGender'].value_counts().plot(kind='bar')"
   ]
  },
  {
   "cell_type": "markdown",
   "id": "c3f6f09a-7ceb-4ee5-95fe-0b66415a006e",
   "metadata": {},
   "source": [
    "Maybe There was a typo, that's why there is a T."
   ]
  },
  {
   "cell_type": "code",
   "execution_count": 15,
   "id": "c80a5d2f-ccbb-42bf-b14c-499091b052ab",
   "metadata": {},
   "outputs": [],
   "source": [
    "df = df[df['CustGender'].isin(['M', 'F'])]"
   ]
  },
  {
   "cell_type": "code",
   "execution_count": 16,
   "id": "5260a56b-102d-4965-b495-3f943af8e2ef",
   "metadata": {},
   "outputs": [
    {
     "data": {
      "text/plain": [
       "<Axes: xlabel='CustGender'>"
      ]
     },
     "execution_count": 16,
     "metadata": {},
     "output_type": "execute_result"
    },
    {
     "data": {
      "image/png": "[encoded data removed]",
      "text/plain": [
       "<Figure size 640x480 with 1 Axes>"
      ]
     },
     "metadata": {},
     "output_type": "display_data"
    }
   ],
   "source": [
    "df['CustGender'].value_counts().plot(kind='bar')"
   ]
  },
  {
   "cell_type": "markdown",
   "id": "e1e551f9-26b5-4274-8f42-5a57c52e26f6",
   "metadata": {},
   "source": [
    "More transaction happened by Male than Female"
   ]
  },
  {
   "cell_type": "code",
   "execution_count": 17,
   "id": "20a7e547-01d1-4e93-aa66-00aec3613242",
   "metadata": {},
   "outputs": [
    {
     "data": {
      "text/html": [
       "<div>\n",
       "<style scoped>\n",
       "    .dataframe tbody tr th:only-of-type {\n",
       "        vertical-align: middle;\n",
       "    }\n",
       "\n",
       "    .dataframe tbody tr th {\n",
       "        vertical-align: top;\n",
       "    }\n",
       "\n",
       "    .dataframe thead th {\n",
       "        text-align: right;\n",
       "    }\n",
       "</style>\n",
       "<table border=\"1\" class=\"dataframe\">\n",
       "  <thead>\n",
       "    <tr style=\"text-align: right;\">\n",
       "      <th></th>\n",
       "      <th>count</th>\n",
       "      <th>mean</th>\n",
       "      <th>std</th>\n",
       "      <th>min</th>\n",
       "      <th>25%</th>\n",
       "      <th>50%</th>\n",
       "      <th>75%</th>\n",
       "      <th>max</th>\n",
       "    </tr>\n",
       "  </thead>\n",
       "  <tbody>\n",
       "    <tr>\n",
       "      <th>CustAccountBalance</th>\n",
       "      <td>1048499.0</td>\n",
       "      <td>115183.700042</td>\n",
       "      <td>845568.174489</td>\n",
       "      <td>0.0</td>\n",
       "      <td>4740.2</td>\n",
       "      <td>16792.18</td>\n",
       "      <td>57472.88</td>\n",
       "      <td>1.150355e+08</td>\n",
       "    </tr>\n",
       "    <tr>\n",
       "      <th>TransactionTime</th>\n",
       "      <td>1048499.0</td>\n",
       "      <td>157090.229890</td>\n",
       "      <td>51260.327868</td>\n",
       "      <td>0.0</td>\n",
       "      <td>124031.0</td>\n",
       "      <td>164227.00</td>\n",
       "      <td>200011.00</td>\n",
       "      <td>2.359590e+05</td>\n",
       "    </tr>\n",
       "    <tr>\n",
       "      <th>TransactionAmount (INR)</th>\n",
       "      <td>1048499.0</td>\n",
       "      <td>1574.188325</td>\n",
       "      <td>6574.295405</td>\n",
       "      <td>0.0</td>\n",
       "      <td>161.0</td>\n",
       "      <td>459.49</td>\n",
       "      <td>1200.00</td>\n",
       "      <td>1.560035e+06</td>\n",
       "    </tr>\n",
       "    <tr>\n",
       "      <th>CustomerAge</th>\n",
       "      <td>1048499.0</td>\n",
       "      <td>30.912317</td>\n",
       "      <td>8.517480</td>\n",
       "      <td>-9.0</td>\n",
       "      <td>25.0</td>\n",
       "      <td>29.00</td>\n",
       "      <td>34.00</td>\n",
       "      <td>9.000000e+01</td>\n",
       "    </tr>\n",
       "  </tbody>\n",
       "</table>\n",
       "</div>"
      ],
      "text/plain": [
       "                             count           mean            std  min  \\\n",
       "CustAccountBalance       1048499.0  115183.700042  845568.174489  0.0   \n",
       "TransactionTime          1048499.0  157090.229890   51260.327868  0.0   \n",
       "TransactionAmount (INR)  1048499.0    1574.188325    6574.295405  0.0   \n",
       "CustomerAge              1048499.0      30.912317       8.517480 -9.0   \n",
       "\n",
       "                              25%        50%        75%           max  \n",
       "CustAccountBalance         4740.2   16792.18   57472.88  1.150355e+08  \n",
       "TransactionTime          124031.0  164227.00  200011.00  2.359590e+05  \n",
       "TransactionAmount (INR)     161.0     459.49    1200.00  1.560035e+06  \n",
       "CustomerAge                  25.0      29.00      34.00  9.000000e+01  "
      ]
     },
     "execution_count": 17,
     "metadata": {},
     "output_type": "execute_result"
    }
   ],
   "source": [
    "df.describe().T"
   ]
  },
  {
   "cell_type": "markdown",
   "id": "c6bfe3fa-b5e7-45b0-a6b7-2300f6b088f5",
   "metadata": {},
   "source": [
    "CustomerAge contains negative ages, let's drop those rows with negative (less than 0) values."
   ]
  },
  {
   "cell_type": "code",
   "execution_count": 18,
   "id": "a09ec891-e23c-48fe-b88d-a0408e74c0d9",
   "metadata": {},
   "outputs": [],
   "source": [
    "df = df[df['CustomerAge'] >= 0]"
   ]
  },
  {
   "cell_type": "code",
   "execution_count": 19,
   "id": "d87da09b-14a8-413b-b1da-66fe8fda68a2",
   "metadata": {},
   "outputs": [
    {
     "data": {
      "text/html": [
       "<div>\n",
       "<style scoped>\n",
       "    .dataframe tbody tr th:only-of-type {\n",
       "        vertical-align: middle;\n",
       "    }\n",
       "\n",
       "    .dataframe tbody tr th {\n",
       "        vertical-align: top;\n",
       "    }\n",
       "\n",
       "    .dataframe thead th {\n",
       "        text-align: right;\n",
       "    }\n",
       "</style>\n",
       "<table border=\"1\" class=\"dataframe\">\n",
       "  <thead>\n",
       "    <tr style=\"text-align: right;\">\n",
       "      <th></th>\n",
       "      <th>count</th>\n",
       "      <th>mean</th>\n",
       "      <th>std</th>\n",
       "      <th>min</th>\n",
       "      <th>25%</th>\n",
       "      <th>50%</th>\n",
       "      <th>75%</th>\n",
       "      <th>max</th>\n",
       "    </tr>\n",
       "  </thead>\n",
       "  <tbody>\n",
       "    <tr>\n",
       "      <th>CustAccountBalance</th>\n",
       "      <td>1048454.0</td>\n",
       "      <td>115154.773109</td>\n",
       "      <td>845548.412012</td>\n",
       "      <td>0.0</td>\n",
       "      <td>4740.2</td>\n",
       "      <td>16792.18</td>\n",
       "      <td>57472.88</td>\n",
       "      <td>1.150355e+08</td>\n",
       "    </tr>\n",
       "    <tr>\n",
       "      <th>TransactionTime</th>\n",
       "      <td>1048454.0</td>\n",
       "      <td>157089.286075</td>\n",
       "      <td>51260.795105</td>\n",
       "      <td>0.0</td>\n",
       "      <td>124031.0</td>\n",
       "      <td>164226.00</td>\n",
       "      <td>200011.00</td>\n",
       "      <td>2.359590e+05</td>\n",
       "    </tr>\n",
       "    <tr>\n",
       "      <th>TransactionAmount (INR)</th>\n",
       "      <td>1048454.0</td>\n",
       "      <td>1574.159335</td>\n",
       "      <td>6574.413495</td>\n",
       "      <td>0.0</td>\n",
       "      <td>161.0</td>\n",
       "      <td>459.04</td>\n",
       "      <td>1200.00</td>\n",
       "      <td>1.560035e+06</td>\n",
       "    </tr>\n",
       "    <tr>\n",
       "      <th>CustomerAge</th>\n",
       "      <td>1048454.0</td>\n",
       "      <td>30.913867</td>\n",
       "      <td>8.514371</td>\n",
       "      <td>0.0</td>\n",
       "      <td>25.0</td>\n",
       "      <td>29.00</td>\n",
       "      <td>34.00</td>\n",
       "      <td>9.000000e+01</td>\n",
       "    </tr>\n",
       "  </tbody>\n",
       "</table>\n",
       "</div>"
      ],
      "text/plain": [
       "                             count           mean            std  min  \\\n",
       "CustAccountBalance       1048454.0  115154.773109  845548.412012  0.0   \n",
       "TransactionTime          1048454.0  157089.286075   51260.795105  0.0   \n",
       "TransactionAmount (INR)  1048454.0    1574.159335    6574.413495  0.0   \n",
       "CustomerAge              1048454.0      30.913867       8.514371  0.0   \n",
       "\n",
       "                              25%        50%        75%           max  \n",
       "CustAccountBalance         4740.2   16792.18   57472.88  1.150355e+08  \n",
       "TransactionTime          124031.0  164226.00  200011.00  2.359590e+05  \n",
       "TransactionAmount (INR)     161.0     459.04    1200.00  1.560035e+06  \n",
       "CustomerAge                  25.0      29.00      34.00  9.000000e+01  "
      ]
     },
     "execution_count": 19,
     "metadata": {},
     "output_type": "execute_result"
    }
   ],
   "source": [
    "df.describe().T"
   ]
  },
  {
   "cell_type": "markdown",
   "id": "702cba44-ee80-42d4-bc29-60153c9cd448",
   "metadata": {},
   "source": [
    "Now we have a clean dataset."
   ]
  },
  {
   "cell_type": "code",
   "execution_count": 21,
   "id": "49c44e20-f7e1-415c-9d14-97370b126873",
   "metadata": {},
   "outputs": [],
   "source": [
    "df = pd.get_dummies(df, columns=['CustGender'], drop_first=True, dtype=int)"
   ]
  },
  {
   "cell_type": "code",
   "execution_count": 22,
   "id": "94440862-dce9-4367-935c-4cd9b0711c5f",
   "metadata": {},
   "outputs": [
    {
     "data": {
      "text/html": [
       "<div>\n",
       "<style scoped>\n",
       "    .dataframe tbody tr th:only-of-type {\n",
       "        vertical-align: middle;\n",
       "    }\n",
       "\n",
       "    .dataframe tbody tr th {\n",
       "        vertical-align: top;\n",
       "    }\n",
       "\n",
       "    .dataframe thead th {\n",
       "        text-align: right;\n",
       "    }\n",
       "</style>\n",
       "<table border=\"1\" class=\"dataframe\">\n",
       "  <thead>\n",
       "    <tr style=\"text-align: right;\">\n",
       "      <th></th>\n",
       "      <th>CustAccountBalance</th>\n",
       "      <th>TransactionTime</th>\n",
       "      <th>TransactionAmount (INR)</th>\n",
       "      <th>CustomerAge</th>\n",
       "      <th>CustGender_M</th>\n",
       "    </tr>\n",
       "  </thead>\n",
       "  <tbody>\n",
       "    <tr>\n",
       "      <th>0</th>\n",
       "      <td>17819.05</td>\n",
       "      <td>143207</td>\n",
       "      <td>25.0</td>\n",
       "      <td>22.0</td>\n",
       "      <td>0</td>\n",
       "    </tr>\n",
       "    <tr>\n",
       "      <th>1</th>\n",
       "      <td>2270.69</td>\n",
       "      <td>141858</td>\n",
       "      <td>27999.0</td>\n",
       "      <td>59.0</td>\n",
       "      <td>1</td>\n",
       "    </tr>\n",
       "    <tr>\n",
       "      <th>2</th>\n",
       "      <td>17874.44</td>\n",
       "      <td>142712</td>\n",
       "      <td>459.0</td>\n",
       "      <td>20.0</td>\n",
       "      <td>0</td>\n",
       "    </tr>\n",
       "    <tr>\n",
       "      <th>3</th>\n",
       "      <td>866503.21</td>\n",
       "      <td>142714</td>\n",
       "      <td>2060.0</td>\n",
       "      <td>43.0</td>\n",
       "      <td>0</td>\n",
       "    </tr>\n",
       "    <tr>\n",
       "      <th>4</th>\n",
       "      <td>6714.43</td>\n",
       "      <td>181156</td>\n",
       "      <td>1762.5</td>\n",
       "      <td>28.0</td>\n",
       "      <td>0</td>\n",
       "    </tr>\n",
       "    <tr>\n",
       "      <th>...</th>\n",
       "      <td>...</td>\n",
       "      <td>...</td>\n",
       "      <td>...</td>\n",
       "      <td>...</td>\n",
       "      <td>...</td>\n",
       "    </tr>\n",
       "    <tr>\n",
       "      <th>1048562</th>\n",
       "      <td>7635.19</td>\n",
       "      <td>184824</td>\n",
       "      <td>799.0</td>\n",
       "      <td>26.0</td>\n",
       "      <td>1</td>\n",
       "    </tr>\n",
       "    <tr>\n",
       "      <th>1048563</th>\n",
       "      <td>27311.42</td>\n",
       "      <td>183734</td>\n",
       "      <td>460.0</td>\n",
       "      <td>24.0</td>\n",
       "      <td>1</td>\n",
       "    </tr>\n",
       "    <tr>\n",
       "      <th>1048564</th>\n",
       "      <td>221757.06</td>\n",
       "      <td>183313</td>\n",
       "      <td>770.0</td>\n",
       "      <td>27.0</td>\n",
       "      <td>1</td>\n",
       "    </tr>\n",
       "    <tr>\n",
       "      <th>1048565</th>\n",
       "      <td>10117.87</td>\n",
       "      <td>184706</td>\n",
       "      <td>1000.0</td>\n",
       "      <td>38.0</td>\n",
       "      <td>1</td>\n",
       "    </tr>\n",
       "    <tr>\n",
       "      <th>1048566</th>\n",
       "      <td>75734.42</td>\n",
       "      <td>181222</td>\n",
       "      <td>1166.0</td>\n",
       "      <td>32.0</td>\n",
       "      <td>1</td>\n",
       "    </tr>\n",
       "  </tbody>\n",
       "</table>\n",
       "<p>1048454 rows × 5 columns</p>\n",
       "</div>"
      ],
      "text/plain": [
       "         CustAccountBalance  TransactionTime  TransactionAmount (INR)  \\\n",
       "0                  17819.05           143207                     25.0   \n",
       "1                   2270.69           141858                  27999.0   \n",
       "2                  17874.44           142712                    459.0   \n",
       "3                 866503.21           142714                   2060.0   \n",
       "4                   6714.43           181156                   1762.5   \n",
       "...                     ...              ...                      ...   \n",
       "1048562             7635.19           184824                    799.0   \n",
       "1048563            27311.42           183734                    460.0   \n",
       "1048564           221757.06           183313                    770.0   \n",
       "1048565            10117.87           184706                   1000.0   \n",
       "1048566            75734.42           181222                   1166.0   \n",
       "\n",
       "         CustomerAge  CustGender_M  \n",
       "0               22.0             0  \n",
       "1               59.0             1  \n",
       "2               20.0             0  \n",
       "3               43.0             0  \n",
       "4               28.0             0  \n",
       "...              ...           ...  \n",
       "1048562         26.0             1  \n",
       "1048563         24.0             1  \n",
       "1048564         27.0             1  \n",
       "1048565         38.0             1  \n",
       "1048566         32.0             1  \n",
       "\n",
       "[1048454 rows x 5 columns]"
      ]
     },
     "execution_count": 22,
     "metadata": {},
     "output_type": "execute_result"
    }
   ],
   "source": [
    "df"
   ]
  },
  {
   "cell_type": "code",
   "execution_count": 28,
   "id": "5e9460f8-ec23-4a1f-95d3-41ea7b31e549",
   "metadata": {},
   "outputs": [
    {
     "data": {
      "image/png": "[encoded data removed]",
      "text/plain": [
       "<Figure size 640x480 with 1 Axes>"
      ]
     },
     "metadata": {},
     "output_type": "display_data"
    },
    {
     "data": {
      "image/png": "[encoded data removed]",
      "text/plain": [
       "<Figure size 640x480 with 1 Axes>"
      ]
     },
     "metadata": {},
     "output_type": "display_data"
    },
    {
     "data": {
      "image/png": "[encoded data removed]",
      "text/plain": [
       "<Figure size 640x480 with 1 Axes>"
      ]
     },
     "metadata": {},
     "output_type": "display_data"
    },
    {
     "data": {
      "image/png": "[encoded data removed]",
      "text/plain": [
       "<Figure size 640x480 with 1 Axes>"
      ]
     },
     "metadata": {},
     "output_type": "display_data"
    }
   ],
   "source": [
    "import seaborn as sns\n",
    "import matplotlib.pyplot as plt\n",
    "import numpy as np\n",
    "df['LogBalance'] = np.log1p(df['CustAccountBalance'])\n",
    "df['LogTransactionAmount'] = np.log1p(df['TransactionAmount (INR)'])\n",
    "for col in ['LogBalance', 'TransactionTime', 'LogTransactionAmount', 'CustomerAge']:\n",
    "    sns.histplot(df[col], color='skyblue', bins=60)\n",
    "    plt.show()"
   ]
  },
  {
   "cell_type": "markdown",
   "id": "0030dcf2-dae8-4ba4-a1d4-7c07a68609cb",
   "metadata": {},
   "source": [
    "Most customers in the dataset maintain an account balance of around ₹22,000.\n",
    "Very few customers have extremely high balances — going beyond ₹8 million (log ≈ 16), with rare outliers reaching ₹40 million (log ≈ 17.5).\n",
    "\n",
    "The log transformation helped:\n",
    "\n",
    "Reduce the impact of extreme outliers\n",
    "\n",
    "Reveal the true underlying pattern in customer balances\n",
    "\n",
    "Prepare the data for distance-based models like KMeans or PCA by making feature scales more comparable"
   ]
  },
  {
   "cell_type": "code",
   "execution_count": 31,
   "id": "b94acbca-70e4-4e9b-92e9-e99d6de4ceee",
   "metadata": {},
   "outputs": [
    {
     "data": {
      "image/png": "[encoded data removed]",
      "text/plain": [
       "<Figure size 640x480 with 1 Axes>"
      ]
     },
     "metadata": {},
     "output_type": "display_data"
    },
    {
     "data": {
      "image/png": "[encoded data removed]",
      "text/plain": [
       "<Figure size 640x480 with 1 Axes>"
      ]
     },
     "metadata": {},
     "output_type": "display_data"
    },
    {
     "data": {
      "image/png": "[encoded data removed]",
      "text/plain": [
       "<Figure size 640x480 with 1 Axes>"
      ]
     },
     "metadata": {},
     "output_type": "display_data"
    },
    {
     "data": {
      "image/png": "[encoded data removed]",
      "text/plain": [
       "<Figure size 640x480 with 1 Axes>"
      ]
     },
     "metadata": {},
     "output_type": "display_data"
    }
   ],
   "source": [
    "for col in ['LogBalance', 'TransactionTime', 'LogTransactionAmount', 'CustomerAge']:\n",
    "    sns.boxplot(x=df['CustGender_M'], y=df[col], color='crimson')\n",
    "    plt.show()"
   ]
  },
  {
   "cell_type": "code",
   "execution_count": 33,
   "id": "6ea83f91-4353-485c-a9ce-3c8f901494b1",
   "metadata": {},
   "outputs": [
    {
     "data": {
      "text/html": [
       "<div>\n",
       "<style scoped>\n",
       "    .dataframe tbody tr th:only-of-type {\n",
       "        vertical-align: middle;\n",
       "    }\n",
       "\n",
       "    .dataframe tbody tr th {\n",
       "        vertical-align: top;\n",
       "    }\n",
       "\n",
       "    .dataframe thead th {\n",
       "        text-align: right;\n",
       "    }\n",
       "</style>\n",
       "<table border=\"1\" class=\"dataframe\">\n",
       "  <thead>\n",
       "    <tr style=\"text-align: right;\">\n",
       "      <th></th>\n",
       "      <th>CustAccountBalance</th>\n",
       "      <th>TransactionTime</th>\n",
       "      <th>TransactionAmount (INR)</th>\n",
       "      <th>CustomerAge</th>\n",
       "      <th>LogBalance</th>\n",
       "      <th>LogTransactionAmount</th>\n",
       "    </tr>\n",
       "  </thead>\n",
       "  <tbody>\n",
       "    <tr>\n",
       "      <th>CustAccountBalance</th>\n",
       "      <td>1.000000</td>\n",
       "      <td>-0.004101</td>\n",
       "      <td>0.062491</td>\n",
       "      <td>0.111703</td>\n",
       "      <td>0.232687</td>\n",
       "      <td>0.075236</td>\n",
       "    </tr>\n",
       "    <tr>\n",
       "      <th>TransactionTime</th>\n",
       "      <td>-0.004101</td>\n",
       "      <td>1.000000</td>\n",
       "      <td>0.007928</td>\n",
       "      <td>0.001740</td>\n",
       "      <td>0.022255</td>\n",
       "      <td>0.103231</td>\n",
       "    </tr>\n",
       "    <tr>\n",
       "      <th>TransactionAmount (INR)</th>\n",
       "      <td>0.062491</td>\n",
       "      <td>0.007928</td>\n",
       "      <td>1.000000</td>\n",
       "      <td>0.088681</td>\n",
       "      <td>0.099265</td>\n",
       "      <td>0.408594</td>\n",
       "    </tr>\n",
       "    <tr>\n",
       "      <th>CustomerAge</th>\n",
       "      <td>0.111703</td>\n",
       "      <td>0.001740</td>\n",
       "      <td>0.088681</td>\n",
       "      <td>1.000000</td>\n",
       "      <td>0.221235</td>\n",
       "      <td>0.227964</td>\n",
       "    </tr>\n",
       "    <tr>\n",
       "      <th>LogBalance</th>\n",
       "      <td>0.232687</td>\n",
       "      <td>0.022255</td>\n",
       "      <td>0.099265</td>\n",
       "      <td>0.221235</td>\n",
       "      <td>1.000000</td>\n",
       "      <td>0.250063</td>\n",
       "    </tr>\n",
       "    <tr>\n",
       "      <th>LogTransactionAmount</th>\n",
       "      <td>0.075236</td>\n",
       "      <td>0.103231</td>\n",
       "      <td>0.408594</td>\n",
       "      <td>0.227964</td>\n",
       "      <td>0.250063</td>\n",
       "      <td>1.000000</td>\n",
       "    </tr>\n",
       "  </tbody>\n",
       "</table>\n",
       "</div>"
      ],
      "text/plain": [
       "                         CustAccountBalance  TransactionTime  \\\n",
       "CustAccountBalance                 1.000000        -0.004101   \n",
       "TransactionTime                   -0.004101         1.000000   \n",
       "TransactionAmount (INR)            0.062491         0.007928   \n",
       "CustomerAge                        0.111703         0.001740   \n",
       "LogBalance                         0.232687         0.022255   \n",
       "LogTransactionAmount               0.075236         0.103231   \n",
       "\n",
       "                         TransactionAmount (INR)  CustomerAge  LogBalance  \\\n",
       "CustAccountBalance                      0.062491     0.111703    0.232687   \n",
       "TransactionTime                         0.007928     0.001740    0.022255   \n",
       "TransactionAmount (INR)                 1.000000     0.088681    0.099265   \n",
       "CustomerAge                             0.088681     1.000000    0.221235   \n",
       "LogBalance                              0.099265     0.221235    1.000000   \n",
       "LogTransactionAmount                    0.408594     0.227964    0.250063   \n",
       "\n",
       "                         LogTransactionAmount  \n",
       "CustAccountBalance                   0.075236  \n",
       "TransactionTime                      0.103231  \n",
       "TransactionAmount (INR)              0.408594  \n",
       "CustomerAge                          0.227964  \n",
       "LogBalance                           0.250063  \n",
       "LogTransactionAmount                 1.000000  "
      ]
     },
     "execution_count": 33,
     "metadata": {},
     "output_type": "execute_result"
    }
   ],
   "source": [
    "df.drop('CustGender_M', axis=1).corr()"
   ]
  },
  {
   "cell_type": "code",
   "execution_count": 36,
   "id": "b4c4977a-9bc4-4f0f-8f76-46d722b7699e",
   "metadata": {},
   "outputs": [
    {
     "data": {
      "text/plain": [
       "<Axes: >"
      ]
     },
     "execution_count": 36,
     "metadata": {},
     "output_type": "execute_result"
    },
    {
     "data": {
      "image/png": "[encoded data removed]",
      "text/plain": [
       "<Figure size 640x480 with 2 Axes>"
      ]
     },
     "metadata": {},
     "output_type": "display_data"
    }
   ],
   "source": [
    "sns.heatmap(df.drop(columns=['CustGender_M', 'CustAccountBalance', 'TransactionAmount (INR)'], axis=1).corr(), annot=True, cmap='coolwarm')"
   ]
  },
  {
   "cell_type": "code",
   "execution_count": 39,
   "id": "5db9aaea-03d1-4ac9-9eb9-a5cd6975b5e6",
   "metadata": {},
   "outputs": [],
   "source": [
    "df.to_csv('BankTransactions.csv', index=False)"
   ]
  },
  {
   "cell_type": "code",
   "execution_count": null,
   "id": "6bd789e1-1b9c-470c-9806-523c1dcf4666",
   "metadata": {},
   "outputs": [],
   "source": []
  }
 ],
 "metadata": {
  "kernelspec": {
   "display_name": "Python [conda env:base] *",
   "language": "python",
   "name": "conda-base-py"
  },
  "language_info": {
   "codemirror_mode": {
    "name": "ipython",
    "version": 3
   },
   "file_extension": ".py",
   "mimetype": "text/x-python",
   "name": "python",
   "nbconvert_exporter": "python",
   "pygments_lexer": "ipython3",
   "version": "3.13.5"
  }
 },
 "nbformat": 4,
 "nbformat_minor": 5
}
